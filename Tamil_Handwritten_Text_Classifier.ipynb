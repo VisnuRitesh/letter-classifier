{
  "nbformat": 4,
  "nbformat_minor": 0,
  "metadata": {
    "accelerator": "GPU",
    "colab": {
      "name": "Tamil_Handwritten_Text_Classifier",
      "provenance": [],
      "collapsed_sections": [],
      "authorship_tag": "ABX9TyOoX4ZvGcA9bKFY2vv9ynME",
      "include_colab_link": true
    },
    "kernelspec": {
      "display_name": "Python 3",
      "name": "python3"
    },
    "widgets": {
      "application/vnd.jupyter.widget-state+json": {
        "187ee4c960b549bca6730088cbba1209": {
          "model_module": "@jupyter-widgets/controls",
          "model_name": "HBoxModel",
          "state": {
            "_view_name": "HBoxView",
            "_dom_classes": [],
            "_model_name": "HBoxModel",
            "_view_module": "@jupyter-widgets/controls",
            "_model_module_version": "1.5.0",
            "_view_count": null,
            "_view_module_version": "1.5.0",
            "box_style": "",
            "layout": "IPY_MODEL_921861198db3496b86c3f713506db8c1",
            "_model_module": "@jupyter-widgets/controls",
            "children": [
              "IPY_MODEL_57d01ebcb5964c41b2489a3ee68b4b14",
              "IPY_MODEL_196023cd1f224561a9dd8d457b2adfe1"
            ]
          }
        },
        "921861198db3496b86c3f713506db8c1": {
          "model_module": "@jupyter-widgets/base",
          "model_name": "LayoutModel",
          "state": {
            "_view_name": "LayoutView",
            "grid_template_rows": null,
            "right": null,
            "justify_content": null,
            "_view_module": "@jupyter-widgets/base",
            "overflow": null,
            "_model_module_version": "1.2.0",
            "_view_count": null,
            "flex_flow": null,
            "width": null,
            "min_width": null,
            "border": null,
            "align_items": null,
            "bottom": null,
            "_model_module": "@jupyter-widgets/base",
            "top": null,
            "grid_column": null,
            "overflow_y": null,
            "overflow_x": null,
            "grid_auto_flow": null,
            "grid_area": null,
            "grid_template_columns": null,
            "flex": null,
            "_model_name": "LayoutModel",
            "justify_items": null,
            "grid_row": null,
            "max_height": null,
            "align_content": null,
            "visibility": null,
            "align_self": null,
            "height": null,
            "min_height": null,
            "padding": null,
            "grid_auto_rows": null,
            "grid_gap": null,
            "max_width": null,
            "order": null,
            "_view_module_version": "1.2.0",
            "grid_template_areas": null,
            "object_position": null,
            "object_fit": null,
            "grid_auto_columns": null,
            "margin": null,
            "display": null,
            "left": null
          }
        },
        "57d01ebcb5964c41b2489a3ee68b4b14": {
          "model_module": "@jupyter-widgets/controls",
          "model_name": "FloatProgressModel",
          "state": {
            "_view_name": "ProgressView",
            "style": "IPY_MODEL_b977f38ab20a440a8c92652a9f09a9ce",
            "_dom_classes": [],
            "description": "100%",
            "_model_name": "FloatProgressModel",
            "bar_style": "success",
            "max": 87306240,
            "_view_module": "@jupyter-widgets/controls",
            "_model_module_version": "1.5.0",
            "value": 87306240,
            "_view_count": null,
            "_view_module_version": "1.5.0",
            "orientation": "horizontal",
            "min": 0,
            "description_tooltip": null,
            "_model_module": "@jupyter-widgets/controls",
            "layout": "IPY_MODEL_96cf52285e784eab86758449972eb00f"
          }
        },
        "196023cd1f224561a9dd8d457b2adfe1": {
          "model_module": "@jupyter-widgets/controls",
          "model_name": "HTMLModel",
          "state": {
            "_view_name": "HTMLView",
            "style": "IPY_MODEL_9b8c59bf4ac74db8b4e5c540377750e9",
            "_dom_classes": [],
            "description": "",
            "_model_name": "HTMLModel",
            "placeholder": "​",
            "_view_module": "@jupyter-widgets/controls",
            "_model_module_version": "1.5.0",
            "value": " 83.3M/83.3M [00:29&lt;00:00, 2.93MB/s]",
            "_view_count": null,
            "_view_module_version": "1.5.0",
            "description_tooltip": null,
            "_model_module": "@jupyter-widgets/controls",
            "layout": "IPY_MODEL_c9b8aec497e9414b882a356a3b4b10af"
          }
        },
        "b977f38ab20a440a8c92652a9f09a9ce": {
          "model_module": "@jupyter-widgets/controls",
          "model_name": "ProgressStyleModel",
          "state": {
            "_view_name": "StyleView",
            "_model_name": "ProgressStyleModel",
            "description_width": "initial",
            "_view_module": "@jupyter-widgets/base",
            "_model_module_version": "1.5.0",
            "_view_count": null,
            "_view_module_version": "1.2.0",
            "bar_color": null,
            "_model_module": "@jupyter-widgets/controls"
          }
        },
        "96cf52285e784eab86758449972eb00f": {
          "model_module": "@jupyter-widgets/base",
          "model_name": "LayoutModel",
          "state": {
            "_view_name": "LayoutView",
            "grid_template_rows": null,
            "right": null,
            "justify_content": null,
            "_view_module": "@jupyter-widgets/base",
            "overflow": null,
            "_model_module_version": "1.2.0",
            "_view_count": null,
            "flex_flow": null,
            "width": null,
            "min_width": null,
            "border": null,
            "align_items": null,
            "bottom": null,
            "_model_module": "@jupyter-widgets/base",
            "top": null,
            "grid_column": null,
            "overflow_y": null,
            "overflow_x": null,
            "grid_auto_flow": null,
            "grid_area": null,
            "grid_template_columns": null,
            "flex": null,
            "_model_name": "LayoutModel",
            "justify_items": null,
            "grid_row": null,
            "max_height": null,
            "align_content": null,
            "visibility": null,
            "align_self": null,
            "height": null,
            "min_height": null,
            "padding": null,
            "grid_auto_rows": null,
            "grid_gap": null,
            "max_width": null,
            "order": null,
            "_view_module_version": "1.2.0",
            "grid_template_areas": null,
            "object_position": null,
            "object_fit": null,
            "grid_auto_columns": null,
            "margin": null,
            "display": null,
            "left": null
          }
        },
        "9b8c59bf4ac74db8b4e5c540377750e9": {
          "model_module": "@jupyter-widgets/controls",
          "model_name": "DescriptionStyleModel",
          "state": {
            "_view_name": "StyleView",
            "_model_name": "DescriptionStyleModel",
            "description_width": "",
            "_view_module": "@jupyter-widgets/base",
            "_model_module_version": "1.5.0",
            "_view_count": null,
            "_view_module_version": "1.2.0",
            "_model_module": "@jupyter-widgets/controls"
          }
        },
        "c9b8aec497e9414b882a356a3b4b10af": {
          "model_module": "@jupyter-widgets/base",
          "model_name": "LayoutModel",
          "state": {
            "_view_name": "LayoutView",
            "grid_template_rows": null,
            "right": null,
            "justify_content": null,
            "_view_module": "@jupyter-widgets/base",
            "overflow": null,
            "_model_module_version": "1.2.0",
            "_view_count": null,
            "flex_flow": null,
            "width": null,
            "min_width": null,
            "border": null,
            "align_items": null,
            "bottom": null,
            "_model_module": "@jupyter-widgets/base",
            "top": null,
            "grid_column": null,
            "overflow_y": null,
            "overflow_x": null,
            "grid_auto_flow": null,
            "grid_area": null,
            "grid_template_columns": null,
            "flex": null,
            "_model_name": "LayoutModel",
            "justify_items": null,
            "grid_row": null,
            "max_height": null,
            "align_content": null,
            "visibility": null,
            "align_self": null,
            "height": null,
            "min_height": null,
            "padding": null,
            "grid_auto_rows": null,
            "grid_gap": null,
            "max_width": null,
            "order": null,
            "_view_module_version": "1.2.0",
            "grid_template_areas": null,
            "object_position": null,
            "object_fit": null,
            "grid_auto_columns": null,
            "margin": null,
            "display": null,
            "left": null
          }
        }
      }
    }
  },
  "cells": [
    {
      "cell_type": "markdown",
      "metadata": {
        "id": "view-in-github",
        "colab_type": "text"
      },
      "source": [
        "<a href=\"https://colab.research.google.com/github/VisnuRitesh/letter-classifier/blob/main/Tamil_Handwritten_Text_Classifier.ipynb\" target=\"_parent\"><img src=\"https://colab.research.google.com/assets/colab-badge.svg\" alt=\"Open In Colab\"/></a>"
      ]
    },
    {
      "cell_type": "markdown",
      "metadata": {
        "id": "epFlgREUW4aK"
      },
      "source": [
        "#Importing the dataset"
      ]
    },
    {
      "cell_type": "code",
      "metadata": {
        "id": "EN00edjqZtwC"
      },
      "source": [
        "from google.colab import drive"
      ],
      "execution_count": 1,
      "outputs": []
    },
    {
      "cell_type": "code",
      "metadata": {
        "colab": {
          "base_uri": "https://localhost:8080/"
        },
        "id": "uqOuT5naZwqt",
        "outputId": "e6c985b5-6fae-42ed-c14c-f07ed78dd7db"
      },
      "source": [
        "drive.mount('/content/gdrive')"
      ],
      "execution_count": 2,
      "outputs": [
        {
          "output_type": "stream",
          "text": [
            "Mounted at /content/gdrive\n"
          ],
          "name": "stdout"
        }
      ]
    },
    {
      "cell_type": "markdown",
      "metadata": {
        "id": "_VdDNZ82c1ju"
      },
      "source": [
        "#Importing the libraries"
      ]
    },
    {
      "cell_type": "code",
      "metadata": {
        "colab": {
          "base_uri": "https://localhost:8080/"
        },
        "id": "nn06LgNYc3wS",
        "outputId": "f05b57a1-6b18-4dcc-aa6f-36ac40437ae5"
      },
      "source": [
        "!pip install -Uqq fastbook\r\n",
        "from fastbook import *"
      ],
      "execution_count": 3,
      "outputs": [
        {
          "output_type": "stream",
          "text": [
            "\u001b[K     |████████████████████████████████| 727kB 10.5MB/s \n",
            "\u001b[K     |████████████████████████████████| 1.2MB 17.1MB/s \n",
            "\u001b[K     |████████████████████████████████| 51kB 9.0MB/s \n",
            "\u001b[K     |████████████████████████████████| 194kB 53.5MB/s \n",
            "\u001b[K     |████████████████████████████████| 61kB 10.7MB/s \n",
            "\u001b[?25h"
          ],
          "name": "stdout"
        }
      ]
    },
    {
      "cell_type": "code",
      "metadata": {
        "id": "86ukg_4oc_8D"
      },
      "source": [
        "!unzip /content/gdrive/MyDrive/Datasets/tamil_letters.zip"
      ],
      "execution_count": null,
      "outputs": []
    },
    {
      "cell_type": "markdown",
      "metadata": {
        "id": "L9Cg__-SfoyK"
      },
      "source": [
        "#Creating a Data Block"
      ]
    },
    {
      "cell_type": "code",
      "metadata": {
        "id": "aGoE1NrNdos7"
      },
      "source": [
        "db = DataBlock(blocks = (ImageBlock, CategoryBlock),\r\n",
        "               get_items = get_image_files,\r\n",
        "               splitter = RandomSplitter(seed = 42),\r\n",
        "               get_y = parent_label,\r\n",
        "               item_tfms = Resize(28),\r\n",
        "               batch_tfms = aug_transforms(size = 224, min_scale = 0.75))"
      ],
      "execution_count": 5,
      "outputs": []
    },
    {
      "cell_type": "markdown",
      "metadata": {
        "id": "myFighnHfvnn"
      },
      "source": [
        "# Creating Data Loaders"
      ]
    },
    {
      "cell_type": "code",
      "metadata": {
        "colab": {
          "base_uri": "https://localhost:8080/",
          "height": 537
        },
        "id": "8Bw6psTjfyzi",
        "outputId": "c4432049-0694-4d47-e795-df41372daba3"
      },
      "source": [
        "path = '/content/tamil_letters'\r\n",
        "\r\n",
        "dls = db.dataloaders(path)\r\n",
        "dls.show_batch(nrows=3, ncols=3)"
      ],
      "execution_count": 6,
      "outputs": [
        {
          "output_type": "display_data",
          "data": {
            "image/png": "[encoded data removed]",
            "text/plain": [
              "<Figure size 648x648 with 9 Axes>"
            ]
          },
          "metadata": {
            "tags": [],
            "needs_background": "light"
          }
        }
      ]
    },
    {
      "cell_type": "markdown",
      "metadata": {
        "id": "bSxfneg0gTKb"
      },
      "source": [
        "# Making a baseline model"
      ]
    },
    {
      "cell_type": "code",
      "metadata": {
        "id": "Ast9u8mtgV7q",
        "colab": {
          "base_uri": "https://localhost:8080/",
          "height": 84,
          "referenced_widgets": [
            "187ee4c960b549bca6730088cbba1209",
            "921861198db3496b86c3f713506db8c1",
            "57d01ebcb5964c41b2489a3ee68b4b14",
            "196023cd1f224561a9dd8d457b2adfe1",
            "b977f38ab20a440a8c92652a9f09a9ce",
            "96cf52285e784eab86758449972eb00f",
            "9b8c59bf4ac74db8b4e5c540377750e9",
            "c9b8aec497e9414b882a356a3b4b10af"
          ]
        },
        "outputId": "80377a10-bbc3-43ae-e7c1-33bc731d1ddd"
      },
      "source": [
        "learn = cnn_learner(dls, resnet34, metrics = accuracy)"
      ],
      "execution_count": 7,
      "outputs": [
        {
          "output_type": "stream",
          "text": [
            "Downloading: \"https://download.pytorch.org/models/resnet34-333f7ec4.pth\" to /root/.cache/torch/hub/checkpoints/resnet34-333f7ec4.pth\n"
          ],
          "name": "stderr"
        },
        {
          "output_type": "display_data",
          "data": {
            "application/vnd.jupyter.widget-view+json": {
              "model_id": "187ee4c960b549bca6730088cbba1209",
              "version_minor": 0,
              "version_major": 2
            },
            "text/plain": [
              "HBox(children=(FloatProgress(value=0.0, max=87306240.0), HTML(value='')))"
            ]
          },
          "metadata": {
            "tags": []
          }
        },
        {
          "output_type": "stream",
          "text": [
            "\n"
          ],
          "name": "stdout"
        }
      ]
    },
    {
      "cell_type": "code",
      "metadata": {
        "id": "6HLTKFVchv9a",
        "colab": {
          "base_uri": "https://localhost:8080/",
          "height": 1000
        },
        "outputId": "56da4a12-8c32-4da4-b53c-193b2ba39b27"
      },
      "source": [
        "learn.fine_tune(25)"
      ],
      "execution_count": 8,
      "outputs": [
        {
          "output_type": "display_data",
          "data": {
            "text/html": [
              "<table border=\"1\" class=\"dataframe\">\n",
              "  <thead>\n",
              "    <tr style=\"text-align: left;\">\n",
              "      <th>epoch</th>\n",
              "      <th>train_loss</th>\n",
              "      <th>valid_loss</th>\n",
              "      <th>accuracy</th>\n",
              "      <th>time</th>\n",
              "    </tr>\n",
              "  </thead>\n",
              "  <tbody>\n",
              "    <tr>\n",
              "      <td>0</td>\n",
              "      <td>2.606295</td>\n",
              "      <td>1.786957</td>\n",
              "      <td>0.497317</td>\n",
              "      <td>06:44</td>\n",
              "    </tr>\n",
              "  </tbody>\n",
              "</table>"
            ],
            "text/plain": [
              "<IPython.core.display.HTML object>"
            ]
          },
          "metadata": {
            "tags": []
          }
        },
        {
          "output_type": "display_data",
          "data": {
            "text/html": [
              "\n",
              "    <div>\n",
              "        <style>\n",
              "            /* Turns off some styling */\n",
              "            progress {\n",
              "                /* gets rid of default border in Firefox and Opera. */\n",
              "                border: none;\n",
              "                /* Needs to be in here for Safari polyfill so background images work as expected. */\n",
              "                background-size: auto;\n",
              "            }\n",
              "            .progress-bar-interrupted, .progress-bar-interrupted::-webkit-progress-bar {\n",
              "                background: #F44336;\n",
              "            }\n",
              "        </style>\n",
              "      <progress value='17' class='' max='25' style='width:300px; height:20px; vertical-align: middle;'></progress>\n",
              "      68.00% [17/25 2:38:52<1:14:45]\n",
              "    </div>\n",
              "    \n",
              "<table border=\"1\" class=\"dataframe\">\n",
              "  <thead>\n",
              "    <tr style=\"text-align: left;\">\n",
              "      <th>epoch</th>\n",
              "      <th>train_loss</th>\n",
              "      <th>valid_loss</th>\n",
              "      <th>accuracy</th>\n",
              "      <th>time</th>\n",
              "    </tr>\n",
              "  </thead>\n",
              "  <tbody>\n",
              "    <tr>\n",
              "      <td>0</td>\n",
              "      <td>1.375950</td>\n",
              "      <td>0.750574</td>\n",
              "      <td>0.770938</td>\n",
              "      <td>09:21</td>\n",
              "    </tr>\n",
              "    <tr>\n",
              "      <td>1</td>\n",
              "      <td>1.065866</td>\n",
              "      <td>0.566341</td>\n",
              "      <td>0.816099</td>\n",
              "      <td>09:20</td>\n",
              "    </tr>\n",
              "    <tr>\n",
              "      <td>2</td>\n",
              "      <td>0.969040</td>\n",
              "      <td>0.524782</td>\n",
              "      <td>0.823756</td>\n",
              "      <td>09:20</td>\n",
              "    </tr>\n",
              "    <tr>\n",
              "      <td>3</td>\n",
              "      <td>0.916894</td>\n",
              "      <td>0.490895</td>\n",
              "      <td>0.837926</td>\n",
              "      <td>09:20</td>\n",
              "    </tr>\n",
              "    <tr>\n",
              "      <td>4</td>\n",
              "      <td>0.888727</td>\n",
              "      <td>0.471255</td>\n",
              "      <td>0.840096</td>\n",
              "      <td>09:20</td>\n",
              "    </tr>\n",
              "    <tr>\n",
              "      <td>5</td>\n",
              "      <td>0.819635</td>\n",
              "      <td>0.433021</td>\n",
              "      <td>0.859029</td>\n",
              "      <td>09:20</td>\n",
              "    </tr>\n",
              "    <tr>\n",
              "      <td>6</td>\n",
              "      <td>0.791947</td>\n",
              "      <td>0.442911</td>\n",
              "      <td>0.847633</td>\n",
              "      <td>09:20</td>\n",
              "    </tr>\n",
              "    <tr>\n",
              "      <td>7</td>\n",
              "      <td>0.780878</td>\n",
              "      <td>0.410875</td>\n",
              "      <td>0.858788</td>\n",
              "      <td>09:20</td>\n",
              "    </tr>\n",
              "    <tr>\n",
              "      <td>8</td>\n",
              "      <td>0.776886</td>\n",
              "      <td>0.415859</td>\n",
              "      <td>0.856859</td>\n",
              "      <td>09:20</td>\n",
              "    </tr>\n",
              "    <tr>\n",
              "      <td>9</td>\n",
              "      <td>0.729414</td>\n",
              "      <td>0.406646</td>\n",
              "      <td>0.861923</td>\n",
              "      <td>09:19</td>\n",
              "    </tr>\n",
              "    <tr>\n",
              "      <td>10</td>\n",
              "      <td>0.662480</td>\n",
              "      <td>0.376570</td>\n",
              "      <td>0.870727</td>\n",
              "      <td>09:19</td>\n",
              "    </tr>\n",
              "    <tr>\n",
              "      <td>11</td>\n",
              "      <td>0.646736</td>\n",
              "      <td>0.353400</td>\n",
              "      <td>0.880675</td>\n",
              "      <td>09:20</td>\n",
              "    </tr>\n",
              "    <tr>\n",
              "      <td>12</td>\n",
              "      <td>0.623911</td>\n",
              "      <td>0.339862</td>\n",
              "      <td>0.882183</td>\n",
              "      <td>09:21</td>\n",
              "    </tr>\n",
              "    <tr>\n",
              "      <td>13</td>\n",
              "      <td>0.594711</td>\n",
              "      <td>0.324124</td>\n",
              "      <td>0.889478</td>\n",
              "      <td>09:23</td>\n",
              "    </tr>\n",
              "    <tr>\n",
              "      <td>14</td>\n",
              "      <td>0.548131</td>\n",
              "      <td>0.325267</td>\n",
              "      <td>0.887850</td>\n",
              "      <td>09:20</td>\n",
              "    </tr>\n",
              "    <tr>\n",
              "      <td>15</td>\n",
              "      <td>0.535959</td>\n",
              "      <td>0.312927</td>\n",
              "      <td>0.894061</td>\n",
              "      <td>09:20</td>\n",
              "    </tr>\n",
              "    <tr>\n",
              "      <td>16</td>\n",
              "      <td>0.516663</td>\n",
              "      <td>0.298688</td>\n",
              "      <td>0.898945</td>\n",
              "      <td>09:21</td>\n",
              "    </tr>\n",
              "  </tbody>\n",
              "</table><p>\n",
              "\n",
              "    <div>\n",
              "        <style>\n",
              "            /* Turns off some styling */\n",
              "            progress {\n",
              "                /* gets rid of default border in Firefox and Opera. */\n",
              "                border: none;\n",
              "                /* Needs to be in here for Safari polyfill so background images work as expected. */\n",
              "                background-size: auto;\n",
              "            }\n",
              "            .progress-bar-interrupted, .progress-bar-interrupted::-webkit-progress-bar {\n",
              "                background: #F44336;\n",
              "            }\n",
              "        </style>\n",
              "      <progress value='341' class='' max='1036' style='width:300px; height:20px; vertical-align: middle;'></progress>\n",
              "      32.92% [341/1036 02:52<05:51 0.4893]\n",
              "    </div>\n",
              "    "
            ],
            "text/plain": [
              "<IPython.core.display.HTML object>"
            ]
          },
          "metadata": {
            "tags": []
          }
        },
        {
          "output_type": "display_data",
          "data": {
            "text/html": [
              "<table border=\"1\" class=\"dataframe\">\n",
              "  <thead>\n",
              "    <tr style=\"text-align: left;\">\n",
              "      <th>epoch</th>\n",
              "      <th>train_loss</th>\n",
              "      <th>valid_loss</th>\n",
              "      <th>accuracy</th>\n",
              "      <th>time</th>\n",
              "    </tr>\n",
              "  </thead>\n",
              "  <tbody>\n",
              "    <tr>\n",
              "      <td>0</td>\n",
              "      <td>1.375950</td>\n",
              "      <td>0.750574</td>\n",
              "      <td>0.770938</td>\n",
              "      <td>09:21</td>\n",
              "    </tr>\n",
              "    <tr>\n",
              "      <td>1</td>\n",
              "      <td>1.065866</td>\n",
              "      <td>0.566341</td>\n",
              "      <td>0.816099</td>\n",
              "      <td>09:20</td>\n",
              "    </tr>\n",
              "    <tr>\n",
              "      <td>2</td>\n",
              "      <td>0.969040</td>\n",
              "      <td>0.524782</td>\n",
              "      <td>0.823756</td>\n",
              "      <td>09:20</td>\n",
              "    </tr>\n",
              "    <tr>\n",
              "      <td>3</td>\n",
              "      <td>0.916894</td>\n",
              "      <td>0.490895</td>\n",
              "      <td>0.837926</td>\n",
              "      <td>09:20</td>\n",
              "    </tr>\n",
              "    <tr>\n",
              "      <td>4</td>\n",
              "      <td>0.888727</td>\n",
              "      <td>0.471255</td>\n",
              "      <td>0.840096</td>\n",
              "      <td>09:20</td>\n",
              "    </tr>\n",
              "    <tr>\n",
              "      <td>5</td>\n",
              "      <td>0.819635</td>\n",
              "      <td>0.433021</td>\n",
              "      <td>0.859029</td>\n",
              "      <td>09:20</td>\n",
              "    </tr>\n",
              "    <tr>\n",
              "      <td>6</td>\n",
              "      <td>0.791947</td>\n",
              "      <td>0.442911</td>\n",
              "      <td>0.847633</td>\n",
              "      <td>09:20</td>\n",
              "    </tr>\n",
              "    <tr>\n",
              "      <td>7</td>\n",
              "      <td>0.780878</td>\n",
              "      <td>0.410875</td>\n",
              "      <td>0.858788</td>\n",
              "      <td>09:20</td>\n",
              "    </tr>\n",
              "    <tr>\n",
              "      <td>8</td>\n",
              "      <td>0.776886</td>\n",
              "      <td>0.415859</td>\n",
              "      <td>0.856859</td>\n",
              "      <td>09:20</td>\n",
              "    </tr>\n",
              "    <tr>\n",
              "      <td>9</td>\n",
              "      <td>0.729414</td>\n",
              "      <td>0.406646</td>\n",
              "      <td>0.861923</td>\n",
              "      <td>09:19</td>\n",
              "    </tr>\n",
              "    <tr>\n",
              "      <td>10</td>\n",
              "      <td>0.662480</td>\n",
              "      <td>0.376570</td>\n",
              "      <td>0.870727</td>\n",
              "      <td>09:19</td>\n",
              "    </tr>\n",
              "    <tr>\n",
              "      <td>11</td>\n",
              "      <td>0.646736</td>\n",
              "      <td>0.353400</td>\n",
              "      <td>0.880675</td>\n",
              "      <td>09:20</td>\n",
              "    </tr>\n",
              "    <tr>\n",
              "      <td>12</td>\n",
              "      <td>0.623911</td>\n",
              "      <td>0.339862</td>\n",
              "      <td>0.882183</td>\n",
              "      <td>09:21</td>\n",
              "    </tr>\n",
              "    <tr>\n",
              "      <td>13</td>\n",
              "      <td>0.594711</td>\n",
              "      <td>0.324124</td>\n",
              "      <td>0.889478</td>\n",
              "      <td>09:23</td>\n",
              "    </tr>\n",
              "    <tr>\n",
              "      <td>14</td>\n",
              "      <td>0.548131</td>\n",
              "      <td>0.325267</td>\n",
              "      <td>0.887850</td>\n",
              "      <td>09:20</td>\n",
              "    </tr>\n",
              "    <tr>\n",
              "      <td>15</td>\n",
              "      <td>0.535959</td>\n",
              "      <td>0.312927</td>\n",
              "      <td>0.894061</td>\n",
              "      <td>09:20</td>\n",
              "    </tr>\n",
              "    <tr>\n",
              "      <td>16</td>\n",
              "      <td>0.516663</td>\n",
              "      <td>0.298688</td>\n",
              "      <td>0.898945</td>\n",
              "      <td>09:21</td>\n",
              "    </tr>\n",
              "    <tr>\n",
              "      <td>17</td>\n",
              "      <td>0.502456</td>\n",
              "      <td>0.304301</td>\n",
              "      <td>0.892493</td>\n",
              "      <td>09:20</td>\n",
              "    </tr>\n",
              "    <tr>\n",
              "      <td>18</td>\n",
              "      <td>0.499638</td>\n",
              "      <td>0.294494</td>\n",
              "      <td>0.901176</td>\n",
              "      <td>09:20</td>\n",
              "    </tr>\n",
              "    <tr>\n",
              "      <td>19</td>\n",
              "      <td>0.481358</td>\n",
              "      <td>0.279932</td>\n",
              "      <td>0.905336</td>\n",
              "      <td>09:20</td>\n",
              "    </tr>\n",
              "    <tr>\n",
              "      <td>20</td>\n",
              "      <td>0.444877</td>\n",
              "      <td>0.282617</td>\n",
              "      <td>0.904371</td>\n",
              "      <td>09:20</td>\n",
              "    </tr>\n",
              "    <tr>\n",
              "      <td>21</td>\n",
              "      <td>0.440122</td>\n",
              "      <td>0.274949</td>\n",
              "      <td>0.904673</td>\n",
              "      <td>09:21</td>\n",
              "    </tr>\n",
              "    <tr>\n",
              "      <td>22</td>\n",
              "      <td>0.411700</td>\n",
              "      <td>0.275312</td>\n",
              "      <td>0.905638</td>\n",
              "      <td>09:20</td>\n",
              "    </tr>\n",
              "    <tr>\n",
              "      <td>23</td>\n",
              "      <td>0.420814</td>\n",
              "      <td>0.273420</td>\n",
              "      <td>0.907507</td>\n",
              "      <td>09:20</td>\n",
              "    </tr>\n",
              "    <tr>\n",
              "      <td>24</td>\n",
              "      <td>0.428652</td>\n",
              "      <td>0.274067</td>\n",
              "      <td>0.907567</td>\n",
              "      <td>09:20</td>\n",
              "    </tr>\n",
              "  </tbody>\n",
              "</table>"
            ],
            "text/plain": [
              "<IPython.core.display.HTML object>"
            ]
          },
          "metadata": {
            "tags": []
          }
        }
      ]
    },
    {
      "cell_type": "code",
      "metadata": {
        "id": "KFBPGA2imTQp"
      },
      "source": [
        "learn.export()"
      ],
      "execution_count": 9,
      "outputs": []
    },
    {
      "cell_type": "code",
      "metadata": {
        "id": "bRDNH80_YYR0"
      },
      "source": [
        ""
      ],
      "execution_count": null,
      "outputs": []
    }
  ]
}